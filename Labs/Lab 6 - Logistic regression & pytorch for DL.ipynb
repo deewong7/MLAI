{
 "cells": [
  {
   "cell_type": "markdown",
   "metadata": {},
   "source": [
    "# Lab 6: Logistic Regression & PyTorch for Deep Learning\n",
    "\n",
    "## A: [*Logistic Regression* ](#partA); B: [*Linear Regression with PyTorch NN*](#partB)\n",
    "\n",
    "[**Haiping Lu**](http://staffwww.dcs.shef.ac.uk/people/H.Lu/) -  [COM4509/6509 MLAI2021](https://github.com/maalvarezl/MLAI) @ The University of Sheffield\n",
    "\n",
    "**Accompanying lectures**: [YouTube video lectures recorded in Year 2020/21.](https://www.youtube.com/watch?v=hnAoAYSzZYI&list=PLuRoUKdWifzwCTez18kp8qL6WLXZhxtm8)\n",
    "\n",
    "**Sources**: Part A is based on the [one neuron](https://github.com/cbernet/maldives/tree/master/one_neuron) notebooks by  [Colin Bernet](https://github.com/cbernet). Part B is based on the [PyTorch tutorial from CSE446, University of Washington](https://courses.cs.washington.edu/courses/cse446/18wi/sections/section7/446_pytorch_tutorial.html) and Lab 1 of my [SimplyDeep](https://github.com/haipinglu/SimplyDeep/)  notebooks.\n",
    "\n",
    "**Reproducibility**: This [seed module](https://github.com/pykale/pykale/blob/master/kale/utils/seed.py) shows how we set seed to ensure reproducibility in our [PyKale library](https://github.com/pykale/pykale). \n",
    "\n",
    "**Machine learning pipeline**: Take a look at the [PyKale](https://github.com/pykale/pykale) library for pipeline-based APIs. \n",
    "\n",
    "**Note**: Try to answer the *six* questions when you first see them rather than coming back after going through the rest."
   ]
  },
  {
   "cell_type": "markdown",
   "metadata": {},
   "source": [
    "# <a id='partA'></a>A: Logistic Regression"
   ]
  },
  {
   "cell_type": "code",
   "execution_count": 2,
   "metadata": {},
   "outputs": [],
   "source": [
    "import numpy as np\n",
    "import matplotlib.pyplot as plt\n",
    "%matplotlib inline"
   ]
  },
  {
   "cell_type": "markdown",
   "metadata": {},
   "source": [
    "## A1. The sigmoid function \n",
    "\n",
    "The **sigmoid** or **logistic function** is essential in binary classification problems. It is expressed as\n",
    "$$\\sigma(z) = \\frac{1}{1+e^{-z}}$$\n",
    "$$\\sigma(z) = \\frac{1}{1+e^{-wx + b}}$$\n",
    "and here is what it looks like in 1D:"
   ]
  },
  {
   "cell_type": "code",
   "execution_count": 3,
   "metadata": {},
   "outputs": [
    {
     "data": {
      "text/plain": [
       "[<matplotlib.lines.Line2D at 0x117cd0f70>]"
      ]
     },
     "execution_count": 3,
     "metadata": {},
     "output_type": "execute_result"
    },
    {
     "data": {
      "image/png": "[encoded data removed]",
      "text/plain": [
       "<Figure size 432x288 with 1 Axes>"
      ]
     },
     "metadata": {
      "needs_background": "light"
     },
     "output_type": "display_data"
    }
   ],
   "source": [
    "# define parameters\n",
    "# the bias: \n",
    "b = 0\n",
    "# the weight: \n",
    "w = 1\n",
    "\n",
    "def sigmoid(x1):\n",
    "    # z is a linear function of x1\n",
    "    z = w*x1 + b\n",
    "    return 1 / (1+np.exp(-z))\n",
    "\n",
    "# create an array of evenly spaced values\n",
    "linx = np.linspace(-10,10,51)\n",
    "\n",
    "plt.plot(linx, sigmoid(linx), 'c')\n",
    "b=2\n",
    "plt.plot(linx, sigmoid(linx), 'y')\n",
    "w=5\n",
    "plt.plot(linx, sigmoid(linx), 'g')"
   ]
  },
  {
   "cell_type": "markdown",
   "metadata": {},
   "source": [
    "---\n",
    "### Question 1\n",
    "\n",
    "What are the parameters (w and b) for each of the three curves orange (left), green (middle) and blue (right)?\n",
    "\n",
    "**Answer**: \n",
    "\n",
    "---\n",
    "\n"
   ]
  },
  {
   "cell_type": "markdown",
   "metadata": {},
   "source": [
    "Let's look at this function in more details:\n",
    "\n",
    "* when $z$ goes to infinity, $e^{-z}$ goes to zero, and $\\sigma (z)$ goes to one.\n",
    "* when $z$ goes to minus infinity, $e^{-z}$ goes to infinity, and $\\sigma (z)$ goes to zero.\n",
    "* $\\sigma(0) = 0.5$, since $e^0=1$.\n",
    "\n",
    "It is important to note that the sigmoid is bound between 0 and 1, like a probability. And actually, in binary classification problems, the probability for an example to belong to a given category is produced by a sigmoid function. To classify our examples, we can simply use the output of the sigmoid: A given unknown example with value $x$ will be classified to category 1 if $\\sigma(z) > 0.5$, and to category 0 otherwise. \n",
    "\n",
    "**Excercise**: Now you can go back to the cell above, and play a bit with the `b` and `w` parameters, redoing the plot everytime you change one of these parameters. \n",
    "\n",
    "> $b$ is the **bias**. Changing the bias simply moves the sigmoid along the horizontal axis. For example, if you choose $b=1$ and $w=1$, then $z = wx + b = 0$ at $x=-1$, and that's where the sigmoid will be equal to 0.5  \n",
    "> $w$ is the **weight** of variable $x$. If you increase it, the sigmoid evolves faster as a function of $x$ and gets sharper."
   ]
  },
  {
   "cell_type": "markdown",
   "metadata": {},
   "source": [
    "## A2. Logistic regression as the simplest neural network"
   ]
  },
  {
   "cell_type": "markdown",
   "metadata": {},
   "source": [
    "We will build the simplest neural network to classify our examples:\n",
    "\n",
    "* Each example has one variable, so we need 1 input node on the input layer\n",
    "* We're not going to use any hidden layer, as that would complicate the network \n",
    "* We have two categories, so the output of the network should be a single value between 0 and 1, which is the estimated probability $p$ for an example to belong to category 1. Then, the probability to belong to category 0 is simply $1-p$. Therefore, we should have a single output neuron, the only neuron in the network.\n",
    "\n",
    "The sigmoid function can be used in the output neuron. Indeed, it spits out a value between 0 and 1, and can be used as a classification probability as we have seen in the previous section.\n",
    "\n",
    "We can represent our network in the following way:\n",
    "\n",
    "![Neural network with 1 neuron](https://github.com/cbernet/maldives/raw/master/images/one_neuron.png)\n",
    "\n",
    "In the output neuron: \n",
    "\n",
    "* the first box performs a change of variable and computes the **weighted input** $z$ of the neuron\n",
    "* the second box applies the **activation function** to the weighted input. Here, we choose the sigmoid $\\sigma (z) = 1/(1+e^{-z})$ as an activation function\n",
    "\n",
    "This simple network has only 2 tunable parameters, the weight $w$ and the bias $b$, both used in the first box. We see in particular that when the bias is very large, the neuron will **always be activated**, whatever the input. On the contrary, for very negative biases, the neuron is **dead**. \n",
    "\n",
    "We can write the output simply as a function of $x$, \n",
    "\n",
    "$$f(x) = \\sigma(z) = \\sigma(wx+b)$$\n",
    "This is exactly the **logistic regression** classifier."
   ]
  },
  {
   "cell_type": "markdown",
   "metadata": {},
   "source": [
    "---\n",
    "### Question 2\n",
    "\n",
    "How can we rewrit the logistic regression classifier above using a **single vectorial parameter** (i.e. one vector containing all parameters)?\n",
    "\n",
    "**Answer**: \n",
    "\n",
    "$$\n",
    "f(X, w) = \\sigma(X, w) = \\sigma(Xw)\n",
    "$$\n",
    "where $ X = [1, x_1, x_2, ... x_n], w = [w_0, w_1, w_2, ... w_D]^T$\n"
   ]
  },
  {
   "cell_type": "markdown",
   "metadata": {},
   "source": [
    "---"
   ]
  },
  {
   "cell_type": "markdown",
   "metadata": {},
   "source": [
    "## A3. Classifying 2D dataset with logistic regression\n",
    "\n",
    "Let's create a sample of examples with two values x1 and x2, with two categories. \n",
    "For category 0, the underlying probability distribution is a 2D Gaussian centered on (0,0), with width = 1 along both directions. For category 1, the Gaussian is centered on (2,2). We assign label 0 to category 0, and label 1 to category 1."
   ]
  },
  {
   "cell_type": "markdown",
   "metadata": {},
   "source": [
    "### Dataset creation\n",
    "\n",
    "Let's create a sample of examples with two values x1 and x2, with two categories. \n",
    "For category 0, the underlying probability distribution is a 2D Gaussian centered on (0,0), with width = 1 along both directions. For category 1, the Gaussian is centered on (2,2). We assign label 0 to category 0, and label 1 to category 1. Check out the [documentation for Gaussian data generation](https://docs.scipy.org/doc/numpy-1.15.1/reference/generated/numpy.random.multivariate_normal.html)"
   ]
  },
  {
   "cell_type": "code",
   "execution_count": 4,
   "metadata": {},
   "outputs": [],
   "source": [
    "normal = np.random.multivariate_normal\n",
    "# Number of samples \n",
    "nSamples = 500\n",
    "# (unit) variance:\n",
    "s2 = 1\n",
    "# below, we provide the coordinates of the mean as \n",
    "# a first argument, and then the covariance matrix\n",
    "# we generate nexamples examples for each category\n",
    "# mean, covariance matrix\n",
    "sgx0 = normal([0.,0.], [[s2, 0.], [0.,s2]], nSamples)\n",
    "sgx1 = normal([2.,2.], [[s2, 0.], [0.,s2]], nSamples)\n",
    "# setting the labels for each category\n",
    "sgy0 = np.zeros((nSamples,))\n",
    "sgy1 = np.ones((nSamples,))\n"
   ]
  },
  {
   "cell_type": "code",
   "execution_count": 5,
   "metadata": {},
   "outputs": [
    {
     "data": {
      "text/plain": [
       "[<matplotlib.lines.Line2D at 0x117e2b8b0>]"
      ]
     },
     "execution_count": 5,
     "metadata": {},
     "output_type": "execute_result"
    },
    {
     "data": {
      "image/png": "[encoded data removed]",
      "text/plain": [
       "<Figure size 432x288 with 1 Axes>"
      ]
     },
     "metadata": {
      "needs_background": "light"
     },
     "output_type": "display_data"
    },
    {
     "data": {
      "image/png": "[encoded data removed]",
      "text/plain": [
       "<Figure size 432x288 with 1 Axes>"
      ]
     },
     "metadata": {
      "needs_background": "light"
     },
     "output_type": "display_data"
    }
   ],
   "source": [
    "plt.plot(sgx0, 'r.')\n",
    "plt.plot(sgx1, 'g.')\n",
    "plt.figure()\n",
    "\n",
    "plt.plot(sgy0, \"r.\")\n",
    "plt.plot(sgy1, \"g.\")"
   ]
  },
  {
   "cell_type": "markdown",
   "metadata": {},
   "source": [
    "Here is a scatter plot for the examples in the two categories"
   ]
  },
  {
   "cell_type": "code",
   "execution_count": 6,
   "metadata": {},
   "outputs": [
    {
     "data": {
      "text/plain": [
       "Text(0, 0.5, 'x2')"
      ]
     },
     "execution_count": 6,
     "metadata": {},
     "output_type": "execute_result"
    },
    {
     "data": {
      "image/png": "[encoded data removed]",
      "text/plain": [
       "<Figure size 432x288 with 1 Axes>"
      ]
     },
     "metadata": {
      "needs_background": "light"
     },
     "output_type": "display_data"
    }
   ],
   "source": [
    "# plt.scatter(sgx0[:,0], sgx0[:,1], alpha=0.5)\n",
    "# plt.scatter(sgx1[:,0], sgx1[:,1], alpha=0.5)\n",
    "plt.scatter(sgx0[:, 0], sgx0[:, 1], alpha=0.5)\n",
    "plt.scatter(sgx1[:, 0], sgx1[:, 1], alpha=0.5)\n",
    "plt.xlabel('x1')\n",
    "plt.ylabel('x2')"
   ]
  },
  {
   "cell_type": "markdown",
   "metadata": {},
   "source": [
    "Our goal is to train a logistic regression to classify (x1,x2) points in one of the two categories depending on the values of x1 and x2. We form the dataset by concatenating the arrays of points, and also the arrays of labels for later use:"
   ]
  },
  {
   "cell_type": "code",
   "execution_count": 7,
   "metadata": {},
   "outputs": [
    {
     "name": "stdout",
     "output_type": "stream",
     "text": [
      "(1000, 2) (1000,)\n"
     ]
    }
   ],
   "source": [
    "# concatenate the X and y value\n",
    "sgx = np.concatenate((sgx0, sgx1))\n",
    "sgy = np.concatenate((sgy0, sgy1))\n",
    "\n",
    "print(sgx.shape, sgy.shape)"
   ]
  },
  {
   "cell_type": "markdown",
   "metadata": {},
   "source": [
    "### 2D sigmoid\n",
    "\n",
    "In 2D, the expression of the sigmoid remains the same, but $z$ is now a function of the two variables $x_1$ and $x_2$, \n",
    "\n",
    "$$z=w_1 x_1 + w_2 x_2 + b$$\n",
    "\n",
    "And here is the code for the **2D sigmoid** and the defined function is called **sigmoid_2d**:"
   ]
  },
  {
   "cell_type": "code",
   "execution_count": 8,
   "metadata": {},
   "outputs": [],
   "source": [
    "# define parameters\n",
    "# bias: \n",
    "b = 0\n",
    "# x1 weight: \n",
    "w1 = 3\n",
    "# x2 weight:\n",
    "w2 = 1\n",
    "\n",
    "def sigmoid_2d(x1, x2):\n",
    "    # z is a linear function of x1 and x2\n",
    "    z = w1*x1 + w2*x2 + b\n",
    "    return 1 / (1+np.exp(-z))"
   ]
  },
  {
   "cell_type": "markdown",
   "metadata": {},
   "source": [
    "To see what this function looks like, we can make a 2D plot, with x1 on the horizontal axis, x2 on the vertical axis, and the value of the sigmoid represented as a color for each (x1, x2) coordinate. To do that, we will create an array of evenly spaced values along x1, and another array along x2. Taken together, these arrays will allow us to map the (x1,x2) plane. "
   ]
  },
  {
   "cell_type": "code",
   "execution_count": 9,
   "metadata": {},
   "outputs": [],
   "source": [
    "xmin, xmax, npoints = (-6,6,51)\n",
    "linx1 = np.linspace(xmin,xmax,npoints)\n",
    "# no need for a new array, we just reuse the one we have with another name: \n",
    "linx2 = linx1"
   ]
  },
  {
   "cell_type": "markdown",
   "metadata": {},
   "source": [
    "Then, we create a **meshgrid** from these arrays: "
   ]
  },
  {
   "cell_type": "code",
   "execution_count": 10,
   "metadata": {},
   "outputs": [
    {
     "name": "stdout",
     "output_type": "stream",
     "text": [
      "(51, 51) (51, 51)\n",
      "gridx1:\n",
      "[[-6.   -5.76 -5.52 ...  5.52  5.76  6.  ]\n",
      " [-6.   -5.76 -5.52 ...  5.52  5.76  6.  ]\n",
      " [-6.   -5.76 -5.52 ...  5.52  5.76  6.  ]\n",
      " ...\n",
      " [-6.   -5.76 -5.52 ...  5.52  5.76  6.  ]\n",
      " [-6.   -5.76 -5.52 ...  5.52  5.76  6.  ]\n",
      " [-6.   -5.76 -5.52 ...  5.52  5.76  6.  ]]\n",
      "gridx2\n",
      "[[-6.   -6.   -6.   ... -6.   -6.   -6.  ]\n",
      " [-5.76 -5.76 -5.76 ... -5.76 -5.76 -5.76]\n",
      " [-5.52 -5.52 -5.52 ... -5.52 -5.52 -5.52]\n",
      " ...\n",
      " [ 5.52  5.52  5.52 ...  5.52  5.52  5.52]\n",
      " [ 5.76  5.76  5.76 ...  5.76  5.76  5.76]\n",
      " [ 6.    6.    6.   ...  6.    6.    6.  ]]\n"
     ]
    }
   ],
   "source": [
    "gridx1, gridx2 = np.meshgrid(np.linspace(xmin,xmax,npoints), np.linspace(xmin,xmax,npoints))\n",
    "print(gridx1.shape, gridx2.shape)\n",
    "print('gridx1:')\n",
    "print(gridx1) \n",
    "print('gridx2')\n",
    "print(gridx2)"
   ]
  },
  {
   "cell_type": "markdown",
   "metadata": {},
   "source": [
    "if you take the first line in both arrays, and scan the values on this line, you get: `(-6,-6), (-5.76, -6), (-5.52, -6)`... So we are scanning the x1 coordinates sequentially at the bottom of the plot. If you take the second line, you get: `(-6, -5.76), (-5.76, -5.76), (-5.52, -5.76)` ... : we are scanning the second line at the bottom of the plot, after moving up in x2 from one step. \n",
    "\n",
    "Scanning the full grid, you would scan the whole plot sequentially. \n",
    "\n",
    "Now we need to compute the value of the sigmoid for each pair (x1,x2) in the grid using the **sigmoid_2d** function defined above (cell 6). That's very easy to do with the output of `meshgrid`: "
   ]
  },
  {
   "cell_type": "markdown",
   "metadata": {},
   "source": [
    "This calls the `sigmoid_2d` function to each pair `(x1,y2)` taken from the `gridx1` and `gridx2` arrays so that we can plot our sigmoid in 2D: "
   ]
  },
  {
   "cell_type": "code",
   "execution_count": 11,
   "metadata": {},
   "outputs": [
    {
     "data": {
      "text/plain": [
       "<matplotlib.colorbar.Colorbar at 0x117f59c10>"
      ]
     },
     "execution_count": 11,
     "metadata": {},
     "output_type": "execute_result"
    },
    {
     "data": {
      "image/png": "[encoded data removed]",
      "text/plain": [
       "<Figure size 432x288 with 2 Axes>"
      ]
     },
     "metadata": {
      "needs_background": "light"
     },
     "output_type": "display_data"
    }
   ],
   "source": [
    "z = sigmoid_2d(gridx1, gridx2)\n",
    "plt.contourf(gridx1, gridx2, z)\n",
    "plt.xlabel('x1')\n",
    "plt.ylabel('x2')\n",
    "plt.colorbar()"
   ]
  },
  {
   "cell_type": "markdown",
   "metadata": {},
   "source": [
    "The 2D sigmoid has the same kind of rising edge as the 1D sigmoid, but in 2D. \n",
    "With the parameters defined above: \n",
    "\n",
    "* The **weight** of $x_2$ is twice larger than the weight of $x_1$, so the sigmoid evolves twice faster as a function of $x_2$. \n",
    "* The separation boundary, which occurs for $z=0$, is a straight line with equation $w_1 x_1 + w_2 x_2 + b = 0$. Or equivalently: \n",
    "\n",
    "$$x_2 = -\\frac{w_1}{w_2} x_1 - \\frac{b}{w_2} = -0.5 x_1$$"
   ]
  },
  {
   "cell_type": "markdown",
   "metadata": {},
   "source": [
    "---\n",
    "### Question 3\n",
    "\n",
    "If you set one of the weights to zero, what will happen? Also, verify on the plot above that the equation above is indeed the one describing the separation boundary. \n",
    "\n",
    "**Answer**: \n",
    "\n",
    "If change $w_1$ to 0, then the value from $x_1$ becomes unimportant, which shows horizontal lines represent that no matter how x2 changes, it will not affect the sigmoid function at all."
   ]
  },
  {
   "cell_type": "markdown",
   "metadata": {},
   "source": [
    "---"
   ]
  },
  {
   "cell_type": "markdown",
   "metadata": {},
   "source": [
    "Now you can test by editing the function `sigmoid_2d`, before re-executing the above cells. \n",
    "\n",
    "Note that if you prefer, you can plot the sigmoid in 3D like this:  "
   ]
  },
  {
   "cell_type": "code",
   "execution_count": 12,
   "metadata": {
    "scrolled": true
   },
   "outputs": [
    {
     "data": {
      "text/plain": [
       "<mpl_toolkits.mplot3d.art3d.Line3DCollection at 0x117fcadc0>"
      ]
     },
     "execution_count": 12,
     "metadata": {},
     "output_type": "execute_result"
    },
    {
     "data": {
      "image/png": "[encoded data removed]",
      "text/plain": [
       "<Figure size 432x288 with 1 Axes>"
      ]
     },
     "metadata": {
      "needs_background": "light"
     },
     "output_type": "display_data"
    }
   ],
   "source": [
    "from mpl_toolkits.mplot3d import Axes3D\n",
    "fig = plt.figure()\n",
    "ax = fig.add_subplot(111, projection='3d')\n",
    "ax.plot_wireframe(gridx1,gridx2,z)"
   ]
  },
  {
   "cell_type": "markdown",
   "metadata": {},
   "source": [
    ">Clearly, the 3-d graph does not care about value change from x1 because w1 is 0.\n",
    "\n",
    "> When $w_1$ and $w_2$ is both 1, it means that the influence of the change between $x_1$ and $x_2$ is equally important."
   ]
  },
  {
   "cell_type": "markdown",
   "metadata": {},
   "source": [
    "**Exercise**: change the parameters to observe how the 2D sigmoid changes."
   ]
  },
  {
   "cell_type": "markdown",
   "metadata": {},
   "source": [
    "### Logistic regression on the 2D data\n",
    "\n",
    "Let's now train a logistic regression to separate the two classes of examples. The goal of the training will be to use the existing examples to find the optimal values for the parameters $w_1, w_2, b$. \n",
    "\n",
    "We take the logistic regression algorithm from scikit-learn. \n",
    "Here, the logistic regression is used with the `lbfgs` solver. LBFGS is the minimization method used to find the best parameters. It is similar to [Newton's method](https://en.wikipedia.org/wiki/Newton%27s_method_in_optimization). Since there is randomness, setting a seed is a good practice for **reproducibility**."
   ]
  },
  {
   "cell_type": "code",
   "execution_count": 13,
   "metadata": {},
   "outputs": [
    {
     "data": {
      "text/plain": [
       "LogisticRegression(random_state=42, solver='saga')"
      ]
     },
     "execution_count": 13,
     "metadata": {},
     "output_type": "execute_result"
    }
   ],
   "source": [
    "from sklearn.linear_model import LogisticRegression\n",
    "\n",
    "np.random.seed(69294) #set a seed for reproducibility\n",
    "clf = LogisticRegression(solver='saga', random_state=42, penalty=\"l2\")  #clf: classifier\n",
    "clf.fit(sgx, sgy)"
   ]
  },
  {
   "cell_type": "code",
   "execution_count": 14,
   "metadata": {},
   "outputs": [
    {
     "data": {
      "text/plain": [
       "array([[ 1.81348988,  0.83926051],\n",
       "       [-0.02975765,  0.63919511],\n",
       "       [ 0.45968514, -1.97583767],\n",
       "       ...,\n",
       "       [ 2.14240122,  3.04485242],\n",
       "       [ 2.76626834,  2.76955696],\n",
       "       [ 2.51141571,  1.42560902]])"
      ]
     },
     "execution_count": 14,
     "metadata": {},
     "output_type": "execute_result"
    }
   ],
   "source": [
    "sgx"
   ]
  },
  {
   "cell_type": "markdown",
   "metadata": {},
   "source": [
    "Note from the above that the default setting for logistic regression in scikit-learn uses L2 regularisation (penalty). "
   ]
  },
  {
   "cell_type": "markdown",
   "metadata": {},
   "source": [
    "---\n",
    "### Question 4\n",
    "\n",
    "What is the objective of L2 regularisation (penalty)? *Hint*: this is not covered in lecture and you need to do some study (search).\n",
    "\n",
    "**Answer**: \n",
    "\n",
    "---\n",
    "\n",
    "The L2 regularisation is to add the norm of the w in order to penalise the w from overfitting.\n",
    "\n",
    "It turns out they have different but equally useful properties.  \n",
    "From a practical standpoint, L1 tends to shrink coefficients to zero whereas L2 tends to shrink coefficients evenly.  \n",
    ">**L1** is therefore useful for **feature selection**, as we can drop any variables associated with coefficients that go to zero.  \n",
    "\n",
    "\n",
    "![image](https://i.imgur.com/o71dDjr.png)"
   ]
  },
  {
   "cell_type": "markdown",
   "metadata": {},
   "source": [
    "Check out the [documentation](https://scikit-learn.org/stable/modules/generated/sklearn.linear_model.LogisticRegression.html) to learn other options for penalty (regularisation) and other settings. In the simplest form, logistic regression does not have any hyperparameters but in practice, regularisation is often used, e.g. to reduce [overfitting](https://en.wikipedia.org/wiki/Overfitting).\n",
    "\n",
    "The logistic regression has been fitted (trained) to the data. Now, we can use it to predict the probability for any given (x1,x2) point to belong to category 1.\n",
    "\n",
    "We would like to plot this probability in 2D as a function of x1 and x2. To do that, we need to use the `clf.predict_proba` method which takes a 2D array of shape `(n_points, 2)`. The first dimension indexes the points, and the second one contains the values of x1 and x2. Again, we use our grid to map the (x1,x2) plane. But the gridx1 and gridx2 arrays defined above contain disconnected values of x1 and x2: "
   ]
  },
  {
   "cell_type": "code",
   "execution_count": 15,
   "metadata": {},
   "outputs": [
    {
     "name": "stdout",
     "output_type": "stream",
     "text": [
      "(51, 51) (51, 51)\n"
     ]
    }
   ],
   "source": [
    "print(gridx1.shape, gridx2.shape)"
   ]
  },
  {
   "cell_type": "markdown",
   "metadata": {},
   "source": [
    "What we want is a 2D array of shape `(n_points, 2)`, not two 2D arrays of shape (51, 51)... \n",
    "So we need to **reshape** these arrays. First, we will **flatten** the gridx1 and gridx2 arrays so that all their values appear sequentially in a 1D array. Here is a small example to show how flatten works: "
   ]
  },
  {
   "cell_type": "code",
   "execution_count": 16,
   "metadata": {},
   "outputs": [
    {
     "name": "stdout",
     "output_type": "stream",
     "text": [
      "[[0 1]\n",
      " [2 3]]\n",
      "flat array: [0 1 2 3]\n"
     ]
    }
   ],
   "source": [
    "a = np.array([[0, 1], [2, 3]])\n",
    "print(a) \n",
    "print('flat array:', a.flatten())"
   ]
  },
  {
   "cell_type": "markdown",
   "metadata": {},
   "source": [
    "Then, we will stitch the two 1D arrays together in two columns with np.c_ like this: "
   ]
  },
  {
   "cell_type": "code",
   "execution_count": 17,
   "metadata": {},
   "outputs": [
    {
     "name": "stdout",
     "output_type": "stream",
     "text": [
      "[0 1 2 3]\n",
      "[4 5 6 7]\n",
      "[[0 4]\n",
      " [1 5]\n",
      " [2 6]\n",
      " [3 7]]\n",
      "(4, 2)\n"
     ]
    }
   ],
   "source": [
    "b = np.array([[4, 5], [6, 7]])\n",
    "print(a.flatten())\n",
    "print(b.flatten())\n",
    "\n",
    "c = np.c_[a.flatten(), b.flatten()]\n",
    "print(c)\n",
    "print(c.shape)"
   ]
  },
  {
   "cell_type": "markdown",
   "metadata": {},
   "source": [
    "This array has exactly the shape expected by `clf.predict_proba`: a list of samples with two values. So let's do the same with our meshgrid, and let's compute the probabilities for all (x1,x2) pairs in the grid:"
   ]
  },
  {
   "cell_type": "code",
   "execution_count": 18,
   "metadata": {},
   "outputs": [
    {
     "data": {
      "text/plain": [
       "(2601, 2)"
      ]
     },
     "execution_count": 18,
     "metadata": {},
     "output_type": "execute_result"
    }
   ],
   "source": [
    "grid = np.c_[gridx1.flatten(), gridx2.flatten()]\n",
    "prob = clf.predict_proba(grid)\n",
    "prob.shape"
   ]
  },
  {
   "cell_type": "markdown",
   "metadata": {},
   "source": [
    "Now, prob does not have the right shape to be plotted. Below, we will use a gridx1 and a gridx2 array with shapes (51,51). The shape of the prob array must also be (51,51), as the plotting method will simply map each (x1,x2) pair to a probability. So we need to **reshape** our probability array to shape (51,51). Reshaping works like this:"
   ]
  },
  {
   "cell_type": "code",
   "execution_count": 19,
   "metadata": {},
   "outputs": [
    {
     "name": "stdout",
     "output_type": "stream",
     "text": [
      "[0 1 2 3]\n",
      "reshaped to (2,2):\n",
      "[[0 1]\n",
      " [2 3]]\n"
     ]
    }
   ],
   "source": [
    "d = np.array([0,1,2,3])\n",
    "print(d)\n",
    "print('reshaped to (2,2):')\n",
    "print(d.reshape(2,2))"
   ]
  },
  {
   "cell_type": "markdown",
   "metadata": {},
   "source": [
    "Finally (!) we can do our plot:"
   ]
  },
  {
   "cell_type": "code",
   "execution_count": 20,
   "metadata": {},
   "outputs": [
    {
     "data": {
      "text/plain": [
       "Text(0, 0.5, 'x2')"
      ]
     },
     "execution_count": 20,
     "metadata": {},
     "output_type": "execute_result"
    },
    {
     "data": {
      "image/png": "[encoded data removed]",
      "text/plain": [
       "<Figure size 432x288 with 2 Axes>"
      ]
     },
     "metadata": {
      "needs_background": "light"
     },
     "output_type": "display_data"
    }
   ],
   "source": [
    "# note that prob[:,1] returns, for all exemples, the probability p to belong to category 1. \n",
    "# prob[:,0] would return the probability to belong to category 0 (which is 1-p)\n",
    "plt.contourf(gridx1,gridx2,prob[:,1].reshape(npoints,npoints))\n",
    "plt.colorbar()\n",
    "\n",
    "plt.scatter(sgx0[:,0], sgx0[:,1], alpha=0.5)\n",
    "plt.scatter(sgx1[:,0], sgx1[:,1], alpha=0.5)\n",
    "plt.xlabel('x1')\n",
    "plt.ylabel('x2')"
   ]
  },
  {
   "cell_type": "markdown",
   "metadata": {},
   "source": [
    "We see that the logistic regression is able to separate these two classes well and the decision boundary is **linear**."
   ]
  },
  {
   "cell_type": "markdown",
   "metadata": {},
   "source": [
    "# <a id='partB'></a>B: Linear Regression with PyTorch NN"
   ]
  },
  {
   "cell_type": "markdown",
   "metadata": {},
   "source": [
    "## Objective\n",
    "\n",
    "* To perform linear regression using PyTorch for understanding the link between linear models and neural networks.\n",
    "\n",
    "**Suggested reading**: \n",
    "* What is PyTorch from [PyTorch tutorial](https://pytorch.org/tutorials/beginner/blitz/tensor_tutorial.html#sphx-glr-beginner-blitz-tensor-tutorial-py)\n",
    "\n",
    "#### Assumptions: basic python programming and [Anaconda](https://anaconda.org/) installed.\n",
    "\n"
   ]
  },
  {
   "cell_type": "markdown",
   "metadata": {},
   "source": [
    "## Why\n",
    "\n",
    "[Linear regression](https://en.wikipedia.org/wiki/Linear_regression) is a fundamental problem in statistics and machine learning. Using PyTorch, a deep learing library, to do linear regression will help bridge simple linear models with complex neural networks.\n",
    "\n",
    "## B1. PyTorch Installation and Basics\n",
    "\n",
    "### Install-1: direct installation (e.g., on your own machine with full installation right)\n",
    "\n",
    "#### Install [PyTorch](https://github.com/pytorch/pytorch) via [Anaconda](https://anaconda.org/)\n",
    "`conda install -c pytorch pytorch`\n",
    "\n",
    "When you are asked whether to proceed, say `y`\n",
    "\n",
    "#### Install [torchvision](https://github.com/pytorch/vision)\n",
    "`conda install -c pytorch torchvision`\n",
    "\n",
    "When you are asked whether to proceed, say `y`"
   ]
  },
  {
   "cell_type": "markdown",
   "metadata": {},
   "source": [
    "### Install-2: Set up Anaconda Python environment (e.g., on a university desktop)\n",
    "\n",
    "On a university desktop, you may not have permission to install new packages on the main environment of Anaconda. Please follow the instructions below to set up a new environment. This is also recommended if you have different python projects running that may require different environments."
   ]
  },
  {
   "cell_type": "markdown",
   "metadata": {},
   "source": [
    "Open a command line terminal.\n",
    "\n",
    "**Create a new conda environment with Python 3.8**<br>\n",
    "`conda create -n mlai python=3.8 anaconda`\n",
    "\n",
    "**Activate the conda environment `mlai`** (see [conda documentation](https://docs.conda.io/projects/conda/en/latest/user-guide/getting-started.html#managing-environments))<br>\n",
    "\n",
    "For conda 4.6 and later versions: `conda activate mlai`\n",
    "\n",
    "For conda versions prior to 4.6<br>\n",
    "`activate mlai` (Windows)<br>\n",
    "`source activate mlai` (Mac/Linux)<br><br>\n",
    "You will see `(mlai)` on the left indciating your environment\n",
    "\n",
    "**Install Pytorch and Torchvision** (non-CUDA/GPU version for simplicity)<br>\n",
    "`conda install pytorch torchvision cpuonly -c pytorch`<br>\n",
    "If you have GPU, install the GPU version with command at [here](https://pytorch.org/)\n",
    "\n",
    "**Start Jupyter notebook server**: `jupyter notebook`"
   ]
  },
  {
   "cell_type": "markdown",
   "metadata": {},
   "source": [
    "### Tensor\n",
    "Optional: Go over the first two modules of [PyTorch tutorial](https://pytorch.org/tutorials/beginner/deep_learning_60min_blitz.html), *What is PyTorch* and *Autograd*\n",
    "\n",
    "`torch.Tensor` is \n",
    "a multidimensional array data structure (array). You may check out the full list of [tensor types](http://pytorch.org/docs/master/tensors.html) and various [tensor operations](https://pytorch.org/docs/stable/torch.html).\n"
   ]
  },
  {
   "cell_type": "markdown",
   "metadata": {},
   "source": [
    "### Computational Graph\n",
    "A computation graph defines/visualises a sequence of operations to go from input to model output. \n",
    "\n",
    "Consider a linear regression model $\\hat y = Wx + b$, where $x$ is our input, $W$ is a weight matrix, $b$ is a bias, and $\\hat y$ is the predicted output. As a computation graph, this looks like:\n",
    "\n",
    "![Linear Regression Computation Graph](https://imgur.com/IcBhTjS.png)"
   ]
  },
  {
   "cell_type": "markdown",
   "metadata": {},
   "source": [
    "PyTorch dynamically build the computational graph, for example\n",
    "![DynamicGraph.gif](https://raw.githubusercontent.com/pytorch/pytorch/master/docs/source/_static/img/dynamic_graph.gif)"
   ]
  },
  {
   "cell_type": "markdown",
   "metadata": {},
   "source": [
    "## B2. Linear Regression using PyTorch `nn` module"
   ]
  },
  {
   "cell_type": "markdown",
   "metadata": {},
   "source": [
    "Let us start right away with implementing linear regression in PyTorch to study PyTorch concepts closely. This part follows the [PyTorch Linear regression example](https://github.com/pytorch/examples/tree/master/regression) that trains a **single fully-connected layer** to fit a 4th degree polynomial.\n",
    "\n",
    "### A synthetic linear regression problem\n",
    "\n",
    "* Generate model parameters, weight and bias. The weight vector and bias are both tensors, 1D and 0D, respectively. We set a seed (2020) for **reproducibility**."
   ]
  },
  {
   "cell_type": "code",
   "execution_count": 21,
   "metadata": {},
   "outputs": [],
   "source": [
    "import torch\n",
    "import torch.nn.functional as F\n",
    "\n",
    "torch.manual_seed(2020) # For reproducibility\n",
    "\n",
    "POLY_DEGREE = 4\n",
    "W_target = torch.randn(POLY_DEGREE, 1) * 5\n",
    "b_target = torch.randn(1) * 5"
   ]
  },
  {
   "cell_type": "code",
   "execution_count": 22,
   "metadata": {},
   "outputs": [
    {
     "name": "stdout",
     "output_type": "stream",
     "text": [
      "tensor([[ 6.1861],\n",
      "        [-4.8020],\n",
      "        [ 7.7076],\n",
      "        [-2.0393]])\n",
      "tensor([4.4029])\n",
      "4\n"
     ]
    }
   ],
   "source": [
    "print(W_target)\n",
    "print(b_target)\n",
    "print(W_target.size(0))"
   ]
  },
  {
   "cell_type": "markdown",
   "metadata": {},
   "source": [
    "* Next, define a number of functions to generate the input (variables) and output (target/response). "
   ]
  },
  {
   "cell_type": "code",
   "execution_count": 23,
   "metadata": {},
   "outputs": [],
   "source": [
    "def make_features(x):\n",
    "    \"\"\"Builds features i.e. a matrix with columns [x, x^2, x^3, x^4].\"\"\"\n",
    "    x = x.unsqueeze(1)\n",
    "    return torch.cat([x ** i for i in range(1, POLY_DEGREE+1)], 1)\n",
    "\n",
    "def f(x):\n",
    "    \"\"\"Approximated function.\"\"\"\n",
    "    return x.mm(W_target) + b_target.item()\n",
    "\n",
    "def poly_desc(W, b):\n",
    "    \"\"\"Creates a string description of a polynomial.\"\"\"\n",
    "    result = 'y = '\n",
    "    for i, w in enumerate(W):\n",
    "        result += '{:+.2f} x^{} '.format(w, i + 1)\n",
    "    result += '{:+.2f}'.format(b[0])\n",
    "    return result\n",
    "\n",
    "def get_batch(batch_size=32):\n",
    "    \"\"\"Builds a batch i.e. (x, f(x)) pair.\"\"\"\n",
    "    random = torch.randn(batch_size)\n",
    "    x = make_features(random)\n",
    "    # generate labels\n",
    "    y = f(x)\n",
    "    return x, y"
   ]
  },
  {
   "cell_type": "code",
   "execution_count": 24,
   "metadata": {},
   "outputs": [
    {
     "data": {
      "text/plain": [
       "'y = +6.19 x^1 -4.80 x^2 +7.71 x^3 -2.04 x^4 +4.40'"
      ]
     },
     "execution_count": 24,
     "metadata": {},
     "output_type": "execute_result"
    }
   ],
   "source": [
    "# My playground\n",
    "\n",
    "# this is the target poly\n",
    "poly_desc(W_target.flatten(), b_target.flatten())"
   ]
  },
  {
   "cell_type": "markdown",
   "metadata": {},
   "source": [
    "* Define a simple(st) neural network, which is a **single fully connected** (**FC**) layer. See [`torch.nn.Linear`](https://pytorch.org/docs/master/nn.html#torch.nn.Linear)"
   ]
  },
  {
   "cell_type": "code",
   "execution_count": 25,
   "metadata": {},
   "outputs": [],
   "source": [
    "fc = torch.nn.Linear(W_target.size(0), 1)\n",
    "# print(list(fc.parameters()))"
   ]
  },
  {
   "cell_type": "code",
   "execution_count": 26,
   "metadata": {},
   "outputs": [
    {
     "name": "stdout",
     "output_type": "stream",
     "text": [
      "Parameter containing:\n",
      "tensor([[ 0.2781, -0.0034,  0.3888,  0.0570]], requires_grad=True)\n"
     ]
    }
   ],
   "source": [
    "# My playground: fc.parameters()\n",
    "\n",
    "paras_list = list(fc.parameters())\n",
    "\n",
    "# print(len(paras_list))\n",
    "# print(type(paras_list[0]))\n",
    "# print(type(paras_list[1]))\n",
    "# print()\n",
    "\n",
    "# print(type(paras_list[0].data))\n",
    "# print(paras_list[0].data)\n",
    "\n",
    "print(fc.weight)"
   ]
  },
  {
   "cell_type": "markdown",
   "metadata": {},
   "source": [
    "    This is a *network* with four input units, one output unit, with a bias term.\n",
    "    \n",
    "* Now generate the data. Let us try to get five pairs of (x,y) first to inspect.\n"
   ]
  },
  {
   "cell_type": "code",
   "execution_count": 27,
   "metadata": {},
   "outputs": [
    {
     "name": "stdout",
     "output_type": "stream",
     "text": [
      "tensor([[ 5.2932e-02,  2.8018e-03,  1.4831e-04,  7.8502e-06],\n",
      "        [-2.9589e-02,  8.7553e-04, -2.5907e-05,  7.6656e-07],\n",
      "        [ 2.1718e-01,  4.7169e-02,  1.0244e-02,  2.2249e-03],\n",
      "        [ 2.7703e-01,  7.6746e-02,  2.1261e-02,  5.8899e-03],\n",
      "        [ 3.2963e-01,  1.0866e-01,  3.5817e-02,  1.1806e-02],\n",
      "        [ 6.4439e-02,  4.1524e-03,  2.6757e-04,  1.7242e-05],\n",
      "        [-3.9165e-01,  1.5339e-01, -6.0075e-02,  2.3528e-02],\n",
      "        [ 1.7392e+00,  3.0247e+00,  5.2605e+00,  9.1489e+00],\n",
      "        [-2.0419e+00,  4.1694e+00, -8.5136e+00,  1.7384e+01],\n",
      "        [ 2.9545e-01,  8.7290e-02,  2.5790e-02,  7.6195e-03]])\n",
      "tensor([[   4.7180],\n",
      "        [   4.2154],\n",
      "        [   5.5943],\n",
      "        [   5.9000],\n",
      "        [   6.1723],\n",
      "        [   4.7836],\n",
      "        [   0.7325],\n",
      "        [  22.5254],\n",
      "        [-129.3210],\n",
      "        [   5.9947]])\n"
     ]
    }
   ],
   "source": [
    "sample_x, sample_y = get_batch(10)\n",
    "print(sample_x)\n",
    "print(sample_y)"
   ]
  },
  {
   "cell_type": "markdown",
   "metadata": {},
   "source": [
    "    Take a look at the FC layer weights (randomly initialised)"
   ]
  },
  {
   "cell_type": "code",
   "execution_count": 28,
   "metadata": {},
   "outputs": [
    {
     "name": "stdout",
     "output_type": "stream",
     "text": [
      "Parameter containing:\n",
      "tensor([[ 0.2781, -0.0034,  0.3888,  0.0570]], requires_grad=True)\n"
     ]
    }
   ],
   "source": [
    "print(fc.weight)"
   ]
  },
  {
   "cell_type": "markdown",
   "metadata": {},
   "source": [
    "    Reset the gradients to zero, perform a forward pass to get prediction, and compute the loss"
   ]
  },
  {
   "cell_type": "code",
   "execution_count": 29,
   "metadata": {},
   "outputs": [
    {
     "name": "stdout",
     "output_type": "stream",
     "text": [
      "17.713403701782227\n"
     ]
    }
   ],
   "source": [
    "# REVIEW: what if I do not do this step?\n",
    "# the grad will accumulate\n",
    "fc.zero_grad()\n",
    "\n",
    "y_pred = fc(sample_x)\n",
    "output = F.smooth_l1_loss(y_pred, sample_y)\n",
    "loss = output.item()\n",
    "print(loss)"
   ]
  },
  {
   "cell_type": "code",
   "execution_count": 30,
   "metadata": {},
   "outputs": [
    {
     "name": "stdout",
     "output_type": "stream",
     "text": [
      "tensor([[ 0.2781, -0.0034,  0.3888,  0.0570]])\n"
     ]
    }
   ],
   "source": [
    "# My playground\n",
    "my_w_grad = list(fc.parameters())[0].data\n",
    "print(my_w_grad)"
   ]
  },
  {
   "cell_type": "markdown",
   "metadata": {},
   "source": [
    "    Random did not give a good prediction. Let us do a backpropagation and update model parameters with gradients."
   ]
  },
  {
   "cell_type": "code",
   "execution_count": 31,
   "metadata": {},
   "outputs": [],
   "source": [
    "output.backward() \n",
    "for param in fc.parameters():\n",
    "    param.data.add_(-0.1 * param.grad.data)"
   ]
  },
  {
   "cell_type": "markdown",
   "metadata": {},
   "source": [
    "    Check the updated weights and respective loss"
   ]
  },
  {
   "cell_type": "code",
   "execution_count": 32,
   "metadata": {},
   "outputs": [
    {
     "name": "stdout",
     "output_type": "stream",
     "text": [
      "Parameter containing:\n",
      "tensor([[ 0.3255, -0.0105,  0.5271, -0.0249]], requires_grad=True)\n",
      "17.37371826171875\n"
     ]
    }
   ],
   "source": [
    "print(fc.weight)\n",
    "output = F.smooth_l1_loss(fc(sample_x), sample_y)\n",
    "loss = output.item()\n",
    "print(loss)"
   ]
  },
  {
   "cell_type": "markdown",
   "metadata": {},
   "source": [
    "   * Now keep feeding more data until the loss is small enough. "
   ]
  },
  {
   "cell_type": "code",
   "execution_count": 33,
   "metadata": {},
   "outputs": [],
   "source": [
    "from itertools import count\n",
    "for batch_idx in count(1):\n",
    "    # Get data\n",
    "    batch_x, batch_y = get_batch()\n",
    "\n",
    "    # Reset gradients\n",
    "    fc.zero_grad()\n",
    "\n",
    "    # Forward pass\n",
    "    # kinda like the predict fucntion\n",
    "    output = F.smooth_l1_loss(fc(batch_x), batch_y)\n",
    "    # output = F.mse_loss(fc(batch_x), batch_y)\n",
    "    loss = output.item()\n",
    "\n",
    "    # Backward pass\n",
    "    output.backward()\n",
    "\n",
    "    # Apply gradients\n",
    "    for param in fc.parameters():\n",
    "        param.data.add_(-0.1 * param.grad.data)\n",
    "\n",
    "    # Stop criterion\n",
    "    if loss < 1e-3:\n",
    "        break\n"
   ]
  },
  {
   "cell_type": "code",
   "execution_count": 34,
   "metadata": {},
   "outputs": [
    {
     "name": "stdout",
     "output_type": "stream",
     "text": [
      "Loss: 0.000516 after 445 batches\n",
      "==> Learned function:\ty = +6.19 x^1 -4.74 x^2 +7.70 x^3 -2.05 x^4 +4.37\n",
      "==> Actual function:\ty = +6.19 x^1 -4.80 x^2 +7.71 x^3 -2.04 x^4 +4.40\n"
     ]
    }
   ],
   "source": [
    "print('Loss: {:.6f} after {} batches'.format(loss, batch_idx))\n",
    "print('==> Learned function:\\t' + poly_desc(fc.weight.view(-1), fc.bias))\n",
    "print('==> Actual function:\\t' + poly_desc(W_target.view(-1), b_target))"
   ]
  },
  {
   "cell_type": "code",
   "execution_count": 35,
   "metadata": {},
   "outputs": [
    {
     "name": "stdout",
     "output_type": "stream",
     "text": [
      "smooth_l1_loss = 0.0010372940450906754.\n",
      "mse = 0.0020745880901813507.\n"
     ]
    },
    {
     "data": {
      "text/plain": [
       "[<matplotlib.lines.Line2D at 0x29aab2be0>]"
      ]
     },
     "execution_count": 35,
     "metadata": {},
     "output_type": "execute_result"
    },
    {
     "data": {
      "image/png": "[encoded data removed]",
      "text/plain": [
       "<Figure size 432x288 with 1 Axes>"
      ]
     },
     "metadata": {
      "needs_background": "light"
     },
     "output_type": "display_data"
    },
    {
     "data": {
      "image/png": "[encoded data removed]",
      "text/plain": [
       "<Figure size 432x288 with 1 Axes>"
      ]
     },
     "metadata": {
      "needs_background": "light"
     },
     "output_type": "display_data"
    }
   ],
   "source": [
    "# My playground\n",
    "\n",
    "x_test, y_test = get_batch(256)\n",
    "\n",
    "my_y_pred1 = fc(x_test)\n",
    "print(f\"smooth_l1_loss = {F.smooth_l1_loss(my_y_pred1, y_test)}.\")\n",
    "print(f\"mse = {F.mse_loss(my_y_pred1, y_test)}.\")\n",
    "\n",
    "plt.plot(y_test, 'g.')\n",
    "plt.figure()\n",
    "plt.plot(my_y_pred1.detach(), 'r.', alpha=.5)\n"
   ]
  },
  {
   "cell_type": "markdown",
   "metadata": {},
   "source": [
    "---\n",
    "### Question 5\n",
    "\n",
    "Implement logistic regression using PyTorch (the `torch.nn.Module`) and apply it to the above synthetic 2D data (or a real dataset if you want it to be more challenging) for classification. You may also vary the synthetic data to observe performance variation. Check out [**reproducibility** in PyTorch](https://pytorch.org/docs/stable/notes/randomness.html)."
   ]
  },
  {
   "cell_type": "code",
   "execution_count": 36,
   "metadata": {},
   "outputs": [],
   "source": [
    "# Answer:\n",
    "torch.manual_seed(69294)\n",
    "\n",
    "\n",
    "# my class for logistic regression model\n",
    "class LogisticRegression(torch.nn.Module):\n",
    "\n",
    "    def __init__(self):\n",
    "        super(LogisticRegression, self).__init__()\n",
    "        self.linear = torch.nn.Linear(2, 1)\n",
    "\n",
    "    def forward(self, x):\n",
    "        # add a linear layer before using the activation function,\n",
    "        # in this case, the activation function is the sigmoid func\n",
    "        y_pred = torch.sigmoid(self.linear(x))\n",
    "        return y_pred\n"
   ]
  },
  {
   "cell_type": "code",
   "execution_count": 37,
   "metadata": {},
   "outputs": [],
   "source": [
    "def get_batch_for_LG(sgx, sgy, batch_size=32):\n",
    "    idx = torch.linspace(0, sgx.shape[0] - 1, steps=sgx.shape[0])\n",
    "\n",
    "    random_i = torch.multinomial(idx, batch_size)\n",
    "\n",
    "    x_batch = sgx[random_i]\n",
    "    y_batch = sgy[random_i]\n",
    "\n",
    "\n",
    "    x_batch = torch.from_numpy(x_batch.astype(np.float32))\n",
    "    y_batch = torch.from_numpy(y_batch.astype(np.float32))\n",
    "\n",
    "    return x_batch, y_batch\n"
   ]
  },
  {
   "cell_type": "code",
   "execution_count": 52,
   "metadata": {},
   "outputs": [
    {
     "name": "stdout",
     "output_type": "stream",
     "text": [
      "At iteration 50, the loss = 0.026735473424196243.\n",
      "At iteration 100, the loss = 0.02814444899559021.\n",
      "At iteration 150, the loss = 0.02783590741455555.\n",
      "At iteration 200, the loss = 0.016376791521906853.\n",
      "At iteration 250, the loss = 0.054954931139945984.\n",
      "At iteration 300, the loss = 0.0386197529733181.\n",
      "At iteration 350, the loss = 0.026997920125722885.\n",
      "At iteration 400, the loss = 0.020490795373916626.\n",
      "At iteration 450, the loss = 0.019007045775651932.\n",
      "At iteration 500, the loss = 0.035224709659814835.\n",
      "At iteration 550, the loss = 0.020259687677025795.\n",
      "At iteration 600, the loss = 0.02554907463490963.\n",
      "At iteration 650, the loss = 0.038681309670209885.\n",
      "At iteration 700, the loss = 0.011641532182693481.\n",
      "At iteration 750, the loss = 0.02189706638455391.\n",
      "At iteration 800, the loss = 0.025611253455281258.\n",
      "At iteration 850, the loss = 0.007789700757712126.\n",
      "At iteration 900, the loss = 0.015759730711579323.\n",
      "At iteration 950, the loss = 0.020210223272442818.\n",
      "At iteration 1000, the loss = 0.029935963451862335.\n",
      "At iteration 1050, the loss = 0.034824296832084656.\n",
      "At iteration 1100, the loss = 0.022575628012418747.\n",
      "At iteration 1150, the loss = 0.011295957490801811.\n",
      "At iteration 1200, the loss = 0.017988983541727066.\n",
      "At iteration 1250, the loss = 0.01864224672317505.\n",
      "At iteration 1300, the loss = 0.018500909209251404.\n",
      "At iteration 1350, the loss = 0.034712761640548706.\n",
      "At iteration 1400, the loss = 0.01926160231232643.\n",
      "At iteration 1450, the loss = 0.010174088180065155.\n",
      "At iteration 1500, the loss = 0.034817785024642944.\n",
      "At iteration 1550, the loss = 0.02110923081636429.\n",
      "At iteration 1600, the loss = 0.01946268044412136.\n",
      "At iteration 1650, the loss = 0.00453386502340436.\n",
      "At iteration 1700, the loss = 0.058244939893484116.\n",
      "At iteration 1750, the loss = 0.003487518522888422.\n",
      "At iteration 1800, the loss = 0.04206663370132446.\n",
      "At iteration 1850, the loss = 0.01784036122262478.\n",
      "At iteration 1900, the loss = 0.0519244521856308.\n",
      "At iteration 1950, the loss = 0.028468554839491844.\n",
      "At iteration 2000, the loss = 0.04416973888874054.\n",
      "At iteration 2050, the loss = 0.015524320304393768.\n",
      "At iteration 2100, the loss = 0.018249591812491417.\n",
      "At iteration 2150, the loss = 0.02376410737633705.\n",
      "At iteration 2200, the loss = 0.040814369916915894.\n",
      "At iteration 2250, the loss = 0.032005567103624344.\n",
      "At iteration 2300, the loss = 0.019921621307730675.\n",
      "At iteration 2350, the loss = 0.018535703420639038.\n",
      "At iteration 2400, the loss = 0.02796410396695137.\n",
      "At iteration 2450, the loss = 0.025350959971547127.\n",
      "At iteration 2500, the loss = 0.042777881026268005.\n",
      "At iteration 2550, the loss = 0.0536949448287487.\n",
      "At iteration 2600, the loss = 0.029760286211967468.\n",
      "At iteration 2650, the loss = 0.014955354854464531.\n",
      "At iteration 2700, the loss = 0.025125151500105858.\n",
      "At iteration 2750, the loss = 0.021014325320720673.\n",
      "At iteration 2800, the loss = 0.0382305309176445.\n",
      "At iteration 2850, the loss = 0.02442324347794056.\n",
      "At iteration 2900, the loss = 0.043658751994371414.\n",
      "At iteration 2950, the loss = 0.02708129771053791.\n",
      "At iteration 3000, the loss = 0.03371019288897514.\n",
      "At iteration 3050, the loss = 0.023427799344062805.\n",
      "At iteration 3100, the loss = 0.016563506796956062.\n",
      "At iteration 3150, the loss = 0.03187413886189461.\n",
      "At iteration 3200, the loss = 0.013491533696651459.\n",
      "At iteration 3250, the loss = 0.010356476530432701.\n",
      "At iteration 3300, the loss = 0.030909331515431404.\n",
      "At iteration 3350, the loss = 0.010442725382745266.\n",
      "At iteration 3400, the loss = 0.03197991102933884.\n",
      "At iteration 3450, the loss = 0.03572170063853264.\n",
      "At iteration 3500, the loss = 0.018432579934597015.\n",
      "At iteration 3550, the loss = 0.023553084582090378.\n",
      "At iteration 3600, the loss = 0.02628542296588421.\n",
      "At iteration 3650, the loss = 0.015331489965319633.\n",
      "At iteration 3700, the loss = 0.014769424684345722.\n",
      "At iteration 3750, the loss = 0.01963801309466362.\n",
      "At iteration 3800, the loss = 0.05035896971821785.\n",
      "At iteration 3850, the loss = 0.02022107131779194.\n",
      "At iteration 3900, the loss = 0.016193140298128128.\n",
      "At iteration 3950, the loss = 0.02785070426762104.\n",
      "At iteration 4000, the loss = 0.05515661835670471.\n",
      "At iteration 4050, the loss = 0.027001049369573593.\n",
      "At iteration 4100, the loss = 0.007821466773748398.\n",
      "At iteration 4150, the loss = 0.024936990812420845.\n",
      "At iteration 4200, the loss = 0.01805192604660988.\n",
      "At iteration 4250, the loss = 0.018979081884026527.\n",
      "At iteration 4300, the loss = 0.03451748937368393.\n",
      "At iteration 4350, the loss = 0.02410978078842163.\n",
      "At iteration 4400, the loss = 0.017433736473321915.\n",
      "At iteration 4450, the loss = 0.019443748518824577.\n",
      "At iteration 4500, the loss = 0.025463128462433815.\n",
      "At iteration 4550, the loss = 0.01203444879502058.\n",
      "At iteration 4600, the loss = 0.03372989594936371.\n",
      "At iteration 4650, the loss = 0.04961879551410675.\n",
      "At iteration 4700, the loss = 0.0306203942745924.\n",
      "At iteration 4750, the loss = 0.04042581841349602.\n",
      "At iteration 4800, the loss = 0.03391404077410698.\n",
      "At iteration 4850, the loss = 0.028955578804016113.\n",
      "After iteration 4874, the loss = 0.0009472941164858639.\n"
     ]
    }
   ],
   "source": [
    "LR = LogisticRegression()\n",
    "\n",
    "# criterion = torch.nn.BCELoss()\n",
    "criterion = torch.nn.SmoothL1Loss()\n",
    "\n",
    "from itertools import count\n",
    "rate = 0.5\n",
    "for lr_idx in count(1):\n",
    "    LR.zero_grad()\n",
    "\n",
    "    x_batch, y_batch = get_batch_for_LG(sgx, sgy)\n",
    "\n",
    "    y_pred = LR(x_batch)\n",
    "\n",
    "    # output = criterion(torch.squeeze(LR(x_batch)), y_batch)\n",
    "    output = criterion(torch.squeeze(y_pred), y_batch)\n",
    "    loss = output.item()\n",
    "\n",
    "    output.backward()\n",
    "\n",
    "    for param in LR.parameters():\n",
    "        param.data.subtract_(rate * param.grad.data)\n",
    "    \n",
    "    if loss < 1e-3:\n",
    "        print(f\"After iteration {lr_idx}, the loss = {loss}.\")\n",
    "        break\n",
    "\n",
    "    if lr_idx % 50 == 0:\n",
    "        print(f\"At iteration {lr_idx}, the loss = {loss}.\")\n",
    "\n",
    "\n"
   ]
  },
  {
   "cell_type": "code",
   "execution_count": 76,
   "metadata": {},
   "outputs": [
    {
     "name": "stdout",
     "output_type": "stream",
     "text": [
      "tensor([[4.1148e-02],\n",
      "        [1.4032e-01],\n",
      "        [9.9446e-01],\n",
      "        [9.9939e-01],\n",
      "        [4.7263e-01],\n",
      "        [9.9970e-01],\n",
      "        [8.0702e-01],\n",
      "        [9.9691e-01],\n",
      "        [8.9321e-01],\n",
      "        [9.9093e-01],\n",
      "        [9.7993e-01],\n",
      "        [8.8041e-01],\n",
      "        [1.1021e-02],\n",
      "        [9.9826e-01],\n",
      "        [9.9956e-01],\n",
      "        [9.3266e-01],\n",
      "        [9.2971e-01],\n",
      "        [5.1789e-03],\n",
      "        [9.9482e-01],\n",
      "        [9.8660e-01],\n",
      "        [9.8362e-01],\n",
      "        [9.9308e-01],\n",
      "        [5.4024e-01],\n",
      "        [9.9359e-01],\n",
      "        [7.2808e-01],\n",
      "        [9.9805e-01],\n",
      "        [9.9727e-01],\n",
      "        [9.9723e-01],\n",
      "        [9.9984e-01],\n",
      "        [9.9288e-01],\n",
      "        [9.7992e-01],\n",
      "        [9.9990e-01],\n",
      "        [8.3564e-01],\n",
      "        [9.8581e-01],\n",
      "        [3.3177e-01],\n",
      "        [5.4470e-01],\n",
      "        [7.3901e-02],\n",
      "        [9.5888e-01],\n",
      "        [9.9217e-01],\n",
      "        [9.1699e-01],\n",
      "        [9.9304e-01],\n",
      "        [9.3027e-01],\n",
      "        [9.4574e-01],\n",
      "        [3.2970e-03],\n",
      "        [2.6577e-03],\n",
      "        [6.4487e-03],\n",
      "        [9.9642e-01],\n",
      "        [9.9127e-01],\n",
      "        [9.7455e-01],\n",
      "        [9.9692e-01],\n",
      "        [9.9924e-01],\n",
      "        [9.8307e-01],\n",
      "        [9.9916e-01],\n",
      "        [9.9894e-01],\n",
      "        [9.7459e-01],\n",
      "        [9.9557e-01],\n",
      "        [9.9493e-01],\n",
      "        [9.6644e-01],\n",
      "        [9.9966e-01],\n",
      "        [2.2258e-03],\n",
      "        [1.2866e-01],\n",
      "        [2.4089e-03],\n",
      "        [3.2045e-01],\n",
      "        [9.9995e-01],\n",
      "        [9.2859e-01],\n",
      "        [9.9898e-01],\n",
      "        [9.8653e-01],\n",
      "        [4.9437e-01],\n",
      "        [9.6113e-01],\n",
      "        [9.9745e-01],\n",
      "        [2.4833e-02],\n",
      "        [9.9037e-01],\n",
      "        [1.5688e-02],\n",
      "        [8.1539e-01],\n",
      "        [9.7195e-01],\n",
      "        [4.9558e-03],\n",
      "        [3.8269e-01],\n",
      "        [9.9892e-01],\n",
      "        [9.7486e-01],\n",
      "        [9.9976e-01],\n",
      "        [2.3940e-01],\n",
      "        [1.1347e-02],\n",
      "        [9.9709e-01],\n",
      "        [8.0548e-01],\n",
      "        [7.0012e-01],\n",
      "        [9.8151e-01],\n",
      "        [3.3666e-03],\n",
      "        [9.9880e-01],\n",
      "        [9.9234e-01],\n",
      "        [9.9646e-01],\n",
      "        [9.8643e-01],\n",
      "        [9.3206e-01],\n",
      "        [8.0315e-03],\n",
      "        [7.3890e-02],\n",
      "        [9.6484e-01],\n",
      "        [9.9710e-01],\n",
      "        [9.6654e-01],\n",
      "        [1.8177e-01],\n",
      "        [9.7819e-01],\n",
      "        [5.9946e-02],\n",
      "        [9.9947e-01],\n",
      "        [9.9467e-02],\n",
      "        [6.6963e-01],\n",
      "        [9.9877e-01],\n",
      "        [9.9961e-01],\n",
      "        [7.8115e-01],\n",
      "        [9.9275e-01],\n",
      "        [6.8050e-01],\n",
      "        [2.5634e-01],\n",
      "        [9.9910e-01],\n",
      "        [9.9555e-01],\n",
      "        [9.8122e-01],\n",
      "        [7.1258e-02],\n",
      "        [3.2701e-03],\n",
      "        [9.5037e-01],\n",
      "        [9.9319e-01],\n",
      "        [4.3534e-02],\n",
      "        [6.6893e-03],\n",
      "        [9.9621e-01],\n",
      "        [7.6604e-02],\n",
      "        [9.1435e-01],\n",
      "        [8.1451e-01],\n",
      "        [9.9961e-01],\n",
      "        [3.4740e-01],\n",
      "        [9.4150e-01],\n",
      "        [5.5042e-03],\n",
      "        [9.9025e-01],\n",
      "        [2.8959e-02],\n",
      "        [9.6095e-01],\n",
      "        [1.5281e-01],\n",
      "        [9.9799e-01],\n",
      "        [1.9816e-02],\n",
      "        [4.9621e-01],\n",
      "        [9.8729e-01],\n",
      "        [2.9769e-01],\n",
      "        [1.4863e-01],\n",
      "        [9.9838e-01],\n",
      "        [3.3181e-01],\n",
      "        [9.9690e-01],\n",
      "        [8.2340e-01],\n",
      "        [9.6076e-05],\n",
      "        [1.4625e-01],\n",
      "        [9.3792e-01],\n",
      "        [8.6629e-01],\n",
      "        [9.9835e-01],\n",
      "        [7.3113e-02],\n",
      "        [9.9161e-01],\n",
      "        [9.7895e-01],\n",
      "        [7.9618e-01],\n",
      "        [9.5421e-01],\n",
      "        [9.9950e-01],\n",
      "        [8.8635e-02],\n",
      "        [8.8712e-01],\n",
      "        [2.4438e-01],\n",
      "        [1.0891e-03],\n",
      "        [8.5076e-03],\n",
      "        [4.5640e-01],\n",
      "        [4.5151e-03],\n",
      "        [9.6746e-01],\n",
      "        [9.9801e-01],\n",
      "        [1.9664e-02],\n",
      "        [9.9986e-01],\n",
      "        [9.8072e-01],\n",
      "        [9.9735e-02],\n",
      "        [1.2668e-01],\n",
      "        [8.9464e-01],\n",
      "        [7.4359e-01],\n",
      "        [9.9412e-01],\n",
      "        [9.9801e-01],\n",
      "        [2.3984e-01],\n",
      "        [9.9999e-01],\n",
      "        [3.5222e-04],\n",
      "        [8.8083e-02],\n",
      "        [1.4630e-01],\n",
      "        [8.4200e-01],\n",
      "        [9.2959e-01],\n",
      "        [9.9577e-01],\n",
      "        [9.9743e-01],\n",
      "        [8.7655e-01],\n",
      "        [5.9540e-02],\n",
      "        [9.5455e-01],\n",
      "        [5.8629e-01],\n",
      "        [9.9796e-01],\n",
      "        [9.8762e-01],\n",
      "        [9.9991e-01],\n",
      "        [9.9926e-01],\n",
      "        [9.8527e-01],\n",
      "        [7.6262e-01],\n",
      "        [8.6164e-01],\n",
      "        [9.8991e-01],\n",
      "        [1.9864e-01],\n",
      "        [9.9990e-01],\n",
      "        [9.9209e-01],\n",
      "        [9.9972e-01],\n",
      "        [9.9955e-01],\n",
      "        [9.9999e-01],\n",
      "        [2.8342e-03],\n",
      "        [9.9885e-01],\n",
      "        [9.9993e-01],\n",
      "        [9.9944e-01],\n",
      "        [3.6211e-01],\n",
      "        [4.2563e-03],\n",
      "        [9.9504e-01],\n",
      "        [9.9782e-01],\n",
      "        [9.9957e-01],\n",
      "        [9.9833e-01],\n",
      "        [9.8886e-01],\n",
      "        [4.8153e-02],\n",
      "        [1.2196e-03],\n",
      "        [9.9933e-01],\n",
      "        [9.9091e-01],\n",
      "        [9.9639e-01],\n",
      "        [9.9717e-01],\n",
      "        [3.0538e-01],\n",
      "        [9.9987e-01],\n",
      "        [9.9662e-01],\n",
      "        [9.6394e-01],\n",
      "        [9.5960e-01],\n",
      "        [7.9664e-01],\n",
      "        [3.7500e-01],\n",
      "        [6.0024e-01],\n",
      "        [3.8941e-02],\n",
      "        [9.9251e-01],\n",
      "        [9.9966e-01],\n",
      "        [9.9765e-01],\n",
      "        [9.9553e-01],\n",
      "        [9.0611e-01],\n",
      "        [9.9965e-01],\n",
      "        [5.6394e-01],\n",
      "        [3.5454e-01],\n",
      "        [4.6227e-02],\n",
      "        [9.7062e-01],\n",
      "        [7.6472e-01],\n",
      "        [4.4355e-01],\n",
      "        [9.9376e-01],\n",
      "        [1.0440e-02],\n",
      "        [9.0352e-01],\n",
      "        [9.9603e-01],\n",
      "        [4.4354e-03],\n",
      "        [4.4890e-02],\n",
      "        [9.6886e-01],\n",
      "        [2.9076e-02],\n",
      "        [9.8613e-01],\n",
      "        [9.6912e-01],\n",
      "        [9.9968e-01],\n",
      "        [6.9565e-02],\n",
      "        [9.3391e-01],\n",
      "        [9.3830e-01],\n",
      "        [1.0000e+00],\n",
      "        [9.3799e-01],\n",
      "        [4.0784e-01],\n",
      "        [9.9908e-01],\n",
      "        [1.0242e-04],\n",
      "        [8.3111e-01],\n",
      "        [9.9797e-01],\n",
      "        [9.9853e-01]], grad_fn=<SigmoidBackward0>)\n"
     ]
    }
   ],
   "source": [
    "lr_x_test, lr_y_test = get_batch_for_LG(sgx, sgy, batch_size=256)\n",
    "\n",
    "lr_y_pred = LR(lr_x_test)\n",
    "\n",
    "# print(f\"mse = {F.mse_loss(torch.squeeze(lr_y_pred), lr_y_test)}.\")\n",
    "# print(f\"smooth_l1_loss = {F.smooth_l1_loss(torch.squeeze(lr_y_pred), lr_y_test)}.\")\n",
    "\n",
    "# c = torch.nn.BCELoss()\n",
    "# print(f\"BECloss = {c(torch.squeeze(lr_y_pred), lr_y_test)}\")\n",
    "\n",
    "\n",
    "with torch.no_grad():\n",
    "    lr_y_pred = torch.where(lr_y_pred < 0.5, 0, 1)\n",
    "\n"
   ]
  },
  {
   "cell_type": "code",
   "execution_count": 66,
   "metadata": {},
   "outputs": [
    {
     "data": {
      "text/plain": [
       "[<matplotlib.lines.Line2D at 0x29b944730>]"
      ]
     },
     "execution_count": 66,
     "metadata": {},
     "output_type": "execute_result"
    },
    {
     "data": {
      "image/png": "[encoded data removed]",
      "text/plain": [
       "<Figure size 432x288 with 1 Axes>"
      ]
     },
     "metadata": {
      "needs_background": "light"
     },
     "output_type": "display_data"
    },
    {
     "data": {
      "image/png": "[encoded data removed]",
      "text/plain": [
       "<Figure size 432x288 with 1 Axes>"
      ]
     },
     "metadata": {
      "needs_background": "light"
     },
     "output_type": "display_data"
    }
   ],
   "source": [
    "plt.plot(lr_y_pred.detach(), 'r.', alpha=0.5)\n",
    "plt.figure()\n",
    "plt.plot(lr_y_test.detach(), 'g.')"
   ]
  },
  {
   "cell_type": "markdown",
   "metadata": {},
   "source": [
    "---"
   ]
  },
  {
   "cell_type": "markdown",
   "metadata": {},
   "source": [
    "---\n",
    "### Question 6\n",
    "\n",
    "Run a [cardiovascular disease diagnosis pipeline in Google Colab](https://colab.research.google.com/github/pykale/pykale/blob/main/examples/cmri_mpca/tutorial.ipynb) using [cardiac MRI data from Sheffield hospitals](https://github.com/pykale/data/tree/main/images/ShefPAH-179) to understand the steps involved in this machine learning pipeline developed here at Sheffield.\n"
   ]
  },
  {
   "cell_type": "markdown",
   "metadata": {},
   "source": [
    "## Additional ideas to explore\n",
    "\n",
    "* Change the [loss function](https://pytorch.org/docs/stable/nn.html#loss-functions) to different choices and compare the results.  \n",
    "* Formulate another regression problem and solve it using `torch.nn`\n",
    "* Compare the `torch.nn` solution against the closed-form solution\n",
    "* Explore any other variations that you can think of to learn more\n",
    "* Explore more advanced examples at the [PyKale library](https://github.com/pykale/pykale/tree/master/examples) "
   ]
  }
 ],
 "metadata": {
  "interpreter": {
   "hash": "687c7bd9bfc30de0eb499b86a667cff972914d7d186d5367031e44cea3330a10"
  },
  "kernelspec": {
   "display_name": "Python 3",
   "language": "python",
   "name": "python3"
  },
  "language_info": {
   "codemirror_mode": {
    "name": "ipython",
    "version": 3
   },
   "file_extension": ".py",
   "mimetype": "text/x-python",
   "name": "python",
   "nbconvert_exporter": "python",
   "pygments_lexer": "ipython3",
   "version": "3.8.11"
  }
 },
 "nbformat": 4,
 "nbformat_minor": 1
}
